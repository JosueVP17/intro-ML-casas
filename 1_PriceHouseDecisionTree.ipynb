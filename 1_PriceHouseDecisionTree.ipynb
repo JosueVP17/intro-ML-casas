{
 "cells": [
  {
   "cell_type": "markdown",
   "id": "69c5cf03",
   "metadata": {},
   "source": [
    "# Modelo ML de Predictor de costos de casas"
   ]
  },
  {
   "cell_type": "markdown",
   "id": "980cab79",
   "metadata": {},
   "source": [
    "## Seleccionar datos para el modelado"
   ]
  },
  {
   "cell_type": "markdown",
   "id": "729f1e34",
   "metadata": {},
   "source": [
    "Importar pandas"
   ]
  },
  {
   "cell_type": "code",
   "execution_count": null,
   "id": "40ffebfe",
   "metadata": {},
   "outputs": [],
   "source": [
    "import pandas as pd"
   ]
  },
  {
   "cell_type": "markdown",
   "id": "39ec066d",
   "metadata": {},
   "source": [
    "Leer ruta csv"
   ]
  },
  {
   "cell_type": "code",
   "execution_count": null,
   "id": "52282240",
   "metadata": {},
   "outputs": [],
   "source": [
    "melbourne_path = \"./melb_data.csv\"\n",
    "melbourne_data = pd.read_csv(melbourne_path)"
   ]
  },
  {
   "cell_type": "markdown",
   "id": "85a56205",
   "metadata": {},
   "source": [
    "Generar un resumen estadístico de un conjunto de datos con `describe()`. Por defecto, proporciona estadísticas como el recuento, la media, la desviación estándar, el mínimo, el máximo y los cuartiles para las columnas numéricas"
   ]
  },
  {
   "cell_type": "code",
   "execution_count": null,
   "id": "9c65f75e",
   "metadata": {},
   "outputs": [],
   "source": [
    "melbourne_data.describe()"
   ]
  },
  {
   "cell_type": "markdown",
   "id": "f2128860",
   "metadata": {},
   "source": [
    "Ver todas las columnas del dataset"
   ]
  },
  {
   "cell_type": "code",
   "execution_count": null,
   "id": "1d28fdf1",
   "metadata": {},
   "outputs": [],
   "source": [
    "melbourne_data.columns"
   ]
  },
  {
   "cell_type": "markdown",
   "id": "1ecd024a",
   "metadata": {},
   "source": [
    "Eliminar las filas que contienen algún valor faltante (NaN o None) de un DataFrame con `dropna()`."
   ]
  },
  {
   "cell_type": "code",
   "execution_count": null,
   "id": "2767e93e",
   "metadata": {},
   "outputs": [],
   "source": [
    "melbourne_data = melbourne_data.dropna(axis=0)"
   ]
  },
  {
   "cell_type": "markdown",
   "id": "d6e1f6be",
   "metadata": {},
   "source": [
    "Hay muchas maneras de seleccionar un subset de los datos. Podemos contar con dos por el momento:\n",
    "- Notación punto. Seleccionar un **prediction target**.\n",
    "- Seleccionar con una lista de columnas. Seleccionar **features**.\n",
    "\n",
    "Usando notación punto, la columna seleccionada se guarda en una **Serie**, que es un dataframe pero con una sola columna de datos. La columna seleccionada es un objetivo de predicción, por convención ésta se llama **y**. "
   ]
  },
  {
   "cell_type": "code",
   "execution_count": null,
   "id": "63bb6fd9",
   "metadata": {},
   "outputs": [],
   "source": [
    "y = melbourne_data.Price"
   ]
  },
  {
   "cell_type": "markdown",
   "id": "33ada4e2",
   "metadata": {},
   "source": [
    "## Escogiendo features\n",
    "\n",
    "Las columnas que serán introducidas al modelo (y hacer predicciones) se llaman **features**. En este caso serán usadas para calcular el precio de la casa. A veces se usarán todas las columnas como features excepto el la columna de predicción objetivo. Otras veces serán menos features."
   ]
  },
  {
   "cell_type": "code",
   "execution_count": null,
   "id": "f89232d5",
   "metadata": {},
   "outputs": [],
   "source": [
    "melbourne_features = ['Rooms', 'Bathroom', 'Landsize', 'Lattitude', 'Longtitude']"
   ]
  },
  {
   "cell_type": "markdown",
   "id": "1fa85503",
   "metadata": {},
   "source": [
    "Por convención, a estos datos se le llama **x**."
   ]
  },
  {
   "cell_type": "code",
   "execution_count": null,
   "id": "a083a1f5",
   "metadata": {},
   "outputs": [],
   "source": [
    "X = melbourne_data[melbourne_features]"
   ]
  },
  {
   "cell_type": "markdown",
   "id": "9263fd95",
   "metadata": {},
   "source": [
    "Describiendo **x**."
   ]
  },
  {
   "cell_type": "code",
   "execution_count": null,
   "id": "e88fbd76",
   "metadata": {},
   "outputs": [],
   "source": [
    "X.describe()"
   ]
  },
  {
   "cell_type": "markdown",
   "id": "d75fa227",
   "metadata": {},
   "source": [
    "Mostrar las primeras filas de **x** con `head()`."
   ]
  },
  {
   "cell_type": "code",
   "execution_count": null,
   "id": "925c12f3",
   "metadata": {},
   "outputs": [],
   "source": [
    "X.head()"
   ]
  },
  {
   "cell_type": "markdown",
   "id": "32f56bb3",
   "metadata": {},
   "source": [
    "## Construyendo el modelo\n",
    "Scikit-learn es la biblioteca más popular para modelar los tipos de datos guardados en DataFrames.\n",
    "\n",
    "Los pasos para construir y usar un modelo son:\n",
    "1. **Definir**. ¿Qué tipo de modelo será? ¿Un árbol de decisión o alguno otro? Otros parámetros del modelo se especifican también.\n",
    "2. **Fit**. Capturar patrones de los datos. Este es el corazón del modelado.\n",
    "3. **Predecir**. ¿Cuál será el valor del target con una entrada nueva?\n",
    "4. **Evaluar**. Determinar qué tan precisas las predicciones del modelo son.\n",
    "\n",
    "Ejemplo de definición de modelo con las features y el target.\n",
    "*Nota*: Especificar un número para `random_state` asegura que se obtienen los mismos resultados en cada ejecución, lo cual es una buena práctica."
   ]
  },
  {
   "cell_type": "code",
   "execution_count": null,
   "id": "cef44cae",
   "metadata": {},
   "outputs": [],
   "source": [
    "from sklearn.tree import DecisionTreeRegressor\n",
    "\n",
    "melbourne_model = DecisionTreeRegressor(random_state=1)\n",
    "\n",
    "melbourne_model.fit(X, y)"
   ]
  },
  {
   "cell_type": "markdown",
   "id": "d9a41cde",
   "metadata": {},
   "source": [
    "En la práctica se querrán hacer predicciones para nuevas casas entrantes al mercado en vez de precios de casas que ya se tienen, pero se harán para las primeras filas para ver cómo la función de predicción trabaja."
   ]
  },
  {
   "cell_type": "code",
   "execution_count": null,
   "id": "91ab61c1",
   "metadata": {},
   "outputs": [],
   "source": [
    "print(\"HACIENDO PREDICCIÓN PARA LAS SIGUIENTES 5 CASAS:\")\n",
    "print(X.head())\n",
    "print(\"Las predicciones son:\")\n",
    "print(melbourne_model.predict(X.head()))"
   ]
  }
 ],
 "metadata": {
  "kernelspec": {
   "display_name": "base",
   "language": "python",
   "name": "python3"
  },
  "language_info": {
   "codemirror_mode": {
    "name": "ipython",
    "version": 3
   },
   "file_extension": ".py",
   "mimetype": "text/x-python",
   "name": "python",
   "nbconvert_exporter": "python",
   "pygments_lexer": "ipython3",
   "version": "3.13.5"
  }
 },
 "nbformat": 4,
 "nbformat_minor": 5
}
