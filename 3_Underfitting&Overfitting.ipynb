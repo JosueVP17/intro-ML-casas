{
 "cells": [
  {
   "cell_type": "markdown",
   "id": "3a0d27b3",
   "metadata": {},
   "source": [
    "# Underfitting and Overfitting\n",
    "\n",
    "Con una manera segura de medir la precisión de un modelo, se puede experimentar con alternativas de modelos y ver cuál da las mejores predicciones. Para el modelo de árbol de decisión se tienen muchas opciones en las que una de las más importantes es la profundidad del árbol.\n",
    "\n",
    "**Tener n en profundidad significa que se tendrán 2^n hojas.**\n",
    "\n",
    "### Overfitting\n",
    "Cuando se divide en muchas hojas, se tienen muy pocas casas en cada una. Esto hará predicciones muy cercanas a los valores actuales de las casas, pero puede que hagan predicciones no confiables para nuevos datos, ya que cada predicción está basada sólo en pocas casas. Cuando un modelo relaciona los datos de entrenamiento casi perfectamente pero lo hace muy mal en datos de validación o nuevos, se le conoce como **Overfitting** o **Sobreajuste**.\n",
    "\n",
    "### Underfitting\n",
    "En caso contrario, si se tienen muy pocas hojas, cada grupo tendrá una gran variedad de casas, resultando en predicciones muy lejanas para la mayoría de casas, incluso en los datos de entrenamiento y, por supuesto, también lo serán en datos de validación por la misma razón. Cuando un modelo falla en capturar distinciones y patrones importantes en los datos, entonces se desempeña pobremente en datos de entrenamiento, se le conoce como **Underfitting** o **Subajuste**. \n",
    "\n",
    "### El mejor punto\n",
    "Ya que necesitamos precisión en datos nuevos, los cuales estimamos de nuestros datos de validación, queremos encontrar el mejor punto entre el underfitting y el overfitting. Visualmente, queremos el siguiente punto:\n",
    "\n",
    "<p align=\"center\"><img src=\"https://storage.googleapis.com/kaggle-media/learn/images/AXSEOfI.png\" width=\"700px\"></p>"
   ]
  },
  {
   "cell_type": "markdown",
   "id": "a9e27d02",
   "metadata": {},
   "source": [
    "## Ejemplo\n",
    "\n",
    "Podemos usar una función para comparar MAE de diferentes valores para `max_leaf_nodes`, argumento de `DecisionTreeRegressor`:"
   ]
  },
  {
   "cell_type": "code",
   "execution_count": null,
   "id": "7e78ad48",
   "metadata": {},
   "outputs": [],
   "source": [
    "from sklearn.metrics import mean_absolute_error\n",
    "from sklearn.tree import DecisionTreeRegressor\n",
    "\n",
    "def get_MAE(max_leaf_nodes, training_X, training_y, validation_X, validation_y):\n",
    "    model = DecisionTreeRegressor(max_leaf_nodes=max_leaf_nodes, random_state=0)\n",
    "    model.fit(training_X, training_y)\n",
    "    prediction = model.predict(validation_X)\n",
    "    return mean_absolute_error(validation_y, prediction)"
   ]
  },
  {
   "cell_type": "markdown",
   "id": "2575e39b",
   "metadata": {},
   "source": [
    "Definiendo los datos de entrada:"
   ]
  },
  {
   "cell_type": "code",
   "execution_count": null,
   "id": "a218ba97",
   "metadata": {},
   "outputs": [],
   "source": [
    "import pandas as pd\n",
    "\n",
    "melbourne_path = \"./melb_data.csv\"\n",
    "melbourne_data = pd.read_csv(melbourne_path)\n",
    "filtered_melbourne_data = melbourne_data.dropna(axis=0)\n",
    "y = filtered_melbourne_data.Price\n",
    "melbourne_features = ['Rooms', 'Bathroom', 'Landsize', 'BuildingArea', 'YearBuilt', 'Lattitude', 'Longtitude']\n",
    "X = filtered_melbourne_data[melbourne_features]"
   ]
  },
  {
   "cell_type": "markdown",
   "id": "d45cafa4",
   "metadata": {},
   "source": [
    "Probando diferentes valores de `max_leaf_nodes` con un ciclo for, para encontrar el mejor valor del parámetro:"
   ]
  },
  {
   "cell_type": "code",
   "execution_count": null,
   "id": "0307b51a",
   "metadata": {},
   "outputs": [],
   "source": [
    "from sklearn.model_selection import train_test_split\n",
    "\n",
    "training_X, validation_X, training_y, validation_y = train_test_split(X, y, random_state=0)\n",
    "best_mae = float('inf')\n",
    "best_depth = 0\n",
    "\n",
    "for depth in range(10, 5001, 10):\n",
    "    mae = get_MAE(depth, training_X, training_y, validation_X, validation_y)\n",
    "    if mae < best_mae:\n",
    "        best_mae = mae\n",
    "        best_depth = depth\n",
    "    # print(\"Max leaf nodes: %d\\t\\tMAE: %.3f\" %(depth, mae))\n",
    "\n",
    "print(\"Best depth: %d\\t\\tMAE: %.3f\" %(best_depth, best_mae))"
   ]
  }
 ],
 "metadata": {
  "kernelspec": {
   "display_name": "base",
   "language": "python",
   "name": "python3"
  },
  "language_info": {
   "codemirror_mode": {
    "name": "ipython",
    "version": 3
   },
   "file_extension": ".py",
   "mimetype": "text/x-python",
   "name": "python",
   "nbconvert_exporter": "python",
   "pygments_lexer": "ipython3",
   "version": "3.13.5"
  }
 },
 "nbformat": 4,
 "nbformat_minor": 5
}
