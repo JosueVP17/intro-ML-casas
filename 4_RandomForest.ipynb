{
 "cells": [
  {
   "cell_type": "markdown",
   "id": "e59060ea",
   "metadata": {},
   "source": [
    "# Random Forest\n",
    "Un Random Forest (o Bosque Aleatorio) es un algoritmo de aprendizaje automático supervisado que se usa tanto para clasificación como para regresión. Se basa en la idea de combinar muchos modelos sencillos, en este caso, árboles de decisión, para obtener un modelo más preciso y estable.\n",
    "\n",
    "## Idea principal\n",
    "En lugar de entrenar un solo árbol de decisión (que puede sobreajustarse o ser inestable), el random forest:\n",
    "\n",
    "1. Crea muchos árboles de decisión, cada uno entrenado con una muestra aleatoria de los datos (técnica llamada bagging o bootstrap aggregating).\n",
    "\n",
    "2. En cada división del árbol, se selecciona un subconjunto aleatorio de características para decidir cómo dividir los nodos.\n",
    "\n",
    "3. Luego, combina los resultados:\n",
    "    - **En clasificación**: se toma la votación mayoritaria de los árboles.\n",
    "    - **En regresión**: se toma el promedio de las predicciones de los árboles.\n",
    "\n",
    "Generalmente tiene una mejor precisión predictiva que un sólo árbol y trabaja muy bien con los parámetros por defecto.\n",
    "\n",
    "## Ejemplo\n",
    "\n",
    "Definiendo los datos de entrada:"
   ]
  },
  {
   "cell_type": "code",
   "execution_count": null,
   "id": "92db2eab",
   "metadata": {},
   "outputs": [],
   "source": [
    "import pandas as pd\n",
    "\n",
    "melbourne_path = \"./melb_data.csv\"\n",
    "melbourne_data = pd.read_csv(melbourne_path)\n",
    "filtered_melbourne_data = melbourne_data.dropna(axis=0)\n",
    "y = filtered_melbourne_data.Price\n",
    "melbourne_features = ['Rooms', 'Bathroom', 'Landsize', 'BuildingArea', 'YearBuilt', 'Lattitude', 'Longtitude']\n",
    "X = filtered_melbourne_data[melbourne_features]"
   ]
  },
  {
   "cell_type": "markdown",
   "id": "77df0887",
   "metadata": {},
   "source": [
    "Se dividen los datos de entrenamiento y validación:"
   ]
  },
  {
   "cell_type": "code",
   "execution_count": null,
   "id": "8a3d797e",
   "metadata": {},
   "outputs": [],
   "source": [
    "from sklearn.model_selection import train_test_split\n",
    "\n",
    "training_X, validation_X, training_y, validation_y = train_test_split(X, y)"
   ]
  },
  {
   "cell_type": "markdown",
   "id": "97f06148",
   "metadata": {},
   "source": [
    "Se importa `RandomForestRegressor` y la métrica MAE de `sklearn`."
   ]
  },
  {
   "cell_type": "code",
   "execution_count": null,
   "id": "39351d3b",
   "metadata": {},
   "outputs": [],
   "source": [
    "from sklearn.ensemble import RandomForestRegressor\n",
    "from sklearn.metrics import mean_absolute_error\n",
    "\n",
    "melbourne_model = RandomForestRegressor(random_state=0)\n",
    "melbourne_model.fit(training_X, training_y)\n",
    "melbourne_prediction = melbourne_model.predict(validation_X)\n",
    "print(mean_absolute_error(validation_y, melbourne_prediction))"
   ]
  }
 ],
 "metadata": {
  "language_info": {
   "name": "python"
  }
 },
 "nbformat": 4,
 "nbformat_minor": 5
}
